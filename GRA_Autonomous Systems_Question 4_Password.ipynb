{
 "cells": [
  {
   "cell_type": "code",
   "execution_count": 7,
   "metadata": {},
   "outputs": [],
   "source": [
    "#subdivision c question code\n",
    "class Solution(object):\n",
    "    def strongPasswordChecker(self, s):\n",
    "        \"\"\"\n",
    "        :type s: str\n",
    "        :rtype: int\n",
    "        \"\"\"\n",
    "\n",
    "        def count_complexity(s):\n",
    "        # lower case, upper case, digits\n",
    "            tests = [\n",
    "                not any(x.islower() for x in s),\n",
    "                not any(x.isupper() for x in s),\n",
    "                not any(x.isdigit() for x in s),\n",
    "            ]\n",
    "            return sum(tests)\n",
    "\n",
    "        def count_repeats(s):\n",
    "            # more than 3 repeats\n",
    "            all_counts = []\n",
    "            count = 1\n",
    "            previous = None\n",
    "            for c in s:\n",
    "                if c == previous:\n",
    "                    count += 1\n",
    "                else:\n",
    "                    if count >= 3:\n",
    "                        all_counts.append(count)\n",
    "                    count = 1\n",
    "                previous = c\n",
    "            if count >= 3:\n",
    "                all_counts.append(count)\n",
    "            return all_counts\n",
    "\n",
    "        if len(s) <= 20:\n",
    "            'replace repeats, add length, add complexities'\n",
    "            fix_repeats = sum(c // 3 for c in count_repeats(s))\n",
    "            return max(6-len(s), count_complexity(s), fix_repeats)\n",
    "\n",
    "        if len(s) > 20:\n",
    "            'delete chars or repeats, replace for complexity'\n",
    "            n_delete = len(s) - 20\n",
    "            r = count_repeats(s)\n",
    "            n = 0\n",
    "            while n < n_delete:\n",
    "                found = False\n",
    "                for i in range(len(r)):\n",
    "                    f = list(filter(lambda x: x >= 3, r))\n",
    "                    if not f:\n",
    "                        break\n",
    "                    if r[i] == min(f, key=lambda x: x % 3):\n",
    "                        found = True\n",
    "                        r[i] -= 1\n",
    "                        n += 1\n",
    "                        if n >= n_delete:\n",
    "                            break\n",
    "                if not found:\n",
    "                    break\n",
    "            repeats_leftover = sum(c // 3 for c in r)\n",
    "            return n_delete + max(repeats_leftover, count_complexity(s))"
   ]
  },
  {
   "cell_type": "code",
   "execution_count": 13,
   "metadata": {},
   "outputs": [
    {
     "name": "stdout",
     "output_type": "stream",
     "text": [
      "Strength of password:-Weak\n"
     ]
    }
   ],
   "source": [
    "#subdivision a question\n",
    "\n",
    "# Python3 program to check if a given  \n",
    "# password is strong or not.  \n",
    "def printStrongNess(input_string): \n",
    "      \n",
    "    n = len(input_string)  \n",
    "  \n",
    "    # Checking lower alphabet in string  \n",
    "    hasLower = False\n",
    "    hasUpper = False\n",
    "    hasDigit = False\n",
    "    specialChar = False\n",
    "    normalChars = \"abcdefghijklmnopqrstu\"\n",
    "    \"vwxyzABCDEFGHIJKLMNOPQRSTUVWXYZ1234567890 \"\n",
    "      \n",
    "    for i in range(n): \n",
    "        if input_string[i].islower(): \n",
    "            hasLower = True\n",
    "        if input_string[i].isupper(): \n",
    "            hasUpper = True\n",
    "        if input_string[i].isdigit(): \n",
    "            hasDigit = True\n",
    "        if input_string[i] not in normalChars: \n",
    "            specialChar = True\n",
    "  \n",
    "    # Strength of password  \n",
    "    print(\"Strength of password:-\", end = \"\") \n",
    "    if (hasLower and hasUpper and \n",
    "        hasDigit and specialChar and n >= 8): \n",
    "        print(\"Strong\") \n",
    "          \n",
    "    elif ((hasLower or hasUpper) and \n",
    "          specialChar and n >= 6): \n",
    "        print(\"Moderate\") \n",
    "    else: \n",
    "        print(\"Weak\") \n",
    "  \n",
    "# Dr code  \n",
    "if __name__==\"__main__\":  \n",
    "      \n",
    "    input_string = \"878887!@12\"\n",
    "      \n",
    "    printStrongNess(input_string) "
   ]
  },
  {
   "cell_type": "code",
   "execution_count": 29,
   "metadata": {},
   "outputs": [
    {
     "name": "stdout",
     "output_type": "stream",
     "text": [
      "Select Password Type (weak/strong): weak\n",
      "Smile\n",
      "#~k3c>42afNJcryfg~ui0z\n"
     ]
    }
   ],
   "source": [
    "# code for subdivision b\n",
    "import random\n",
    "alpha = \"abcdefghijklmnopqrstuvwxyzABCDEFGHIJKLMNOPQRSTUVWXYZ\"\n",
    "num = \"0123456789\"\n",
    "spl_char = \"!\\\"#$%&'()*+,-./:;<=>?@[]^_`{|}~\"\n",
    "weak_passwords = [\"Smile\",\"123456\",\"apple\"]; #list of weak passwords\n",
    "strength = input(\"Select Password Type (weak/strong): \"); #ask user if he needs weak/srong password\n",
    "if(strength.lower() == \"weak\"): #if user prompted weak\n",
    " print(weak_passwords[random.randint(0,2)])\n",
    "else:\n",
    " password = []\n",
    "x = random.randint(1,3)\n",
    "y = random.randint(7,11)\n",
    "for _ in range(x): #get random int between [1,3]\n",
    " password.append(random.choice(num)) #random.choice(list) returns random element from list\n",
    "for _ in range(x): #get random int between [1,3]\n",
    " password.append(random.choice(spl_char))\n",
    "for _ in range(y): #get random int between [7,22]\n",
    " password.append(random.choice(alpha))\n",
    "random.shuffle(password) #shuffles the list\n",
    "print(''.join(password)) #join the list as string"
   ]
  },
  {
   "cell_type": "code",
   "execution_count": 30,
   "metadata": {},
   "outputs": [
    {
     "name": "stdout",
     "output_type": "stream",
     "text": [
      "Select Password Type (weak/strong): strong\n",
      "C6@2H3AYfuN{w{\n"
     ]
    }
   ],
   "source": [
    "# code for subdivision b\n",
    "import random\n",
    "alpha = \"abcdefghijklmnopqrstuvwxyzABCDEFGHIJKLMNOPQRSTUVWXYZ\"\n",
    "num = \"0123456789\"\n",
    "spl_char = \"!\\\"#$%&'()*+,-./:;<=>?@[]^_`{|}~\"\n",
    "weak_passwords = [\"Smile\",\"123456\",\"apple\"]; #list of weak passwords\n",
    "strength = input(\"Select Password Type (weak/strong): \"); #ask user if he needs weak/srong password\n",
    "if(strength.lower() == \"weak\"): #if user prompted weak\n",
    " print(weak_passwords[random.randint(0,2)])\n",
    "else:\n",
    " password = []\n",
    "x = random.randint(1,3)\n",
    "y = random.randint(7,11)\n",
    "for _ in range(x): #get random int between [1,3]\n",
    " password.append(random.choice(num)) #random.choice(list) returns random element from list\n",
    "for _ in range(x): #get random int between [1,3]\n",
    " password.append(random.choice(spl_char))\n",
    "for _ in range(y): #get random int between [7,22]\n",
    " password.append(random.choice(alpha))\n",
    "random.shuffle(password) #shuffles the list\n",
    "print(''.join(password)) #join the list as string"
   ]
  },
  {
   "cell_type": "code",
   "execution_count": 31,
   "metadata": {},
   "outputs": [
    {
     "name": "stdout",
     "output_type": "stream",
     "text": [
      "Select Password Type (weak/strong): weak\n",
      "apple\n",
      "a{Ehy62@1o=HpRw3fu{OACYN\n"
     ]
    }
   ],
   "source": [
    "# code for subdivision b\n",
    "import random\n",
    "alpha = \"abcdefghijklmnopqrstuvwxyzABCDEFGHIJKLMNOPQRSTUVWXYZ\"\n",
    "num = \"0123456789\"\n",
    "spl_char = \"!\\\"#$%&'()*+,-./:;<=>?@[]^_`{|}~\"\n",
    "weak_passwords = [\"Smile\",\"123456\",\"apple\"]; #list of weak passwords\n",
    "strength = input(\"Select Password Type (weak/strong): \"); #ask user if he needs weak/srong password\n",
    "if(strength.lower() == \"weak\"): #if user prompted weak\n",
    " print(weak_passwords[random.randint(0,2)])\n",
    "else:\n",
    " password = []\n",
    "x = random.randint(1,3)\n",
    "y = random.randint(7,11)\n",
    "for _ in range(x): #get random int between [1,3]\n",
    " password.append(random.choice(num)) #random.choice(list) returns random element from list\n",
    "for _ in range(x): #get random int between [1,3]\n",
    " password.append(random.choice(spl_char))\n",
    "for _ in range(y): #get random int between [7,22]\n",
    " password.append(random.choice(alpha))\n",
    "random.shuffle(password) #shuffles the list\n",
    "print(''.join(password)) #join the list as string"
   ]
  },
  {
   "cell_type": "code",
   "execution_count": 32,
   "metadata": {},
   "outputs": [
    {
     "name": "stdout",
     "output_type": "stream",
     "text": [
      "Select Password Type (weak/strong): strong\n",
      ":B^7glz)4IsR8f\n"
     ]
    }
   ],
   "source": [
    "# code for subdivision b\n",
    "import random\n",
    "alpha = \"abcdefghijklmnopqrstuvwxyzABCDEFGHIJKLMNOPQRSTUVWXYZ\"\n",
    "num = \"0123456789\"\n",
    "spl_char = \"!\\\"#$%&'()*+,-./:;<=>?@[]^_`{|}~\"\n",
    "weak_passwords = [\"Smile\",\"123456\",\"apple\"]; #list of weak passwords\n",
    "strength = input(\"Select Password Type (weak/strong): \"); #ask user if he needs weak/srong password\n",
    "if(strength.lower() == \"weak\"): #if user prompted weak\n",
    " print(weak_passwords[random.randint(0,2)])\n",
    "else:\n",
    " password = []\n",
    "x = random.randint(1,3)\n",
    "y = random.randint(7,11)\n",
    "for _ in range(x): #get random int between [1,3]\n",
    " password.append(random.choice(num)) #random.choice(list) returns random element from list\n",
    "for _ in range(x): #get random int between [1,3]\n",
    " password.append(random.choice(spl_char))\n",
    "for _ in range(y): #get random int between [7,22]\n",
    " password.append(random.choice(alpha))\n",
    "random.shuffle(password) #shuffles the list\n",
    "print(''.join(password)) #join the list as string"
   ]
  },
  {
   "cell_type": "code",
   "execution_count": 33,
   "metadata": {},
   "outputs": [
    {
     "name": "stdout",
     "output_type": "stream",
     "text": [
      "Select Password Type (weak/strong): weak\n",
      "apple\n",
      "^g)CCfb;eB9[ERl480Rxz7s::I7\n"
     ]
    }
   ],
   "source": [
    "# code for subdivision b\n",
    "import random\n",
    "alpha = \"abcdefghijklmnopqrstuvwxyzABCDEFGHIJKLMNOPQRSTUVWXYZ\"\n",
    "num = \"0123456789\"\n",
    "spl_char = \"!\\\"#$%&'()*+,-./:;<=>?@[]^_`{|}~\"\n",
    "weak_passwords = [\"Smile\",\"123456\",\"apple\"]; #list of weak passwords\n",
    "strength = input(\"Select Password Type (weak/strong): \"); #ask user if he needs weak/srong password\n",
    "if(strength.lower() == \"weak\"): #if user prompted weak\n",
    " print(weak_passwords[random.randint(0,2)])\n",
    "else:\n",
    " password = []\n",
    "x = random.randint(1,3)\n",
    "y = random.randint(7,11)\n",
    "for _ in range(x): #get random int between [1,3]\n",
    " password.append(random.choice(num)) #random.choice(list) returns random element from list\n",
    "for _ in range(x): #get random int between [1,3]\n",
    " password.append(random.choice(spl_char))\n",
    "for _ in range(y): #get random int between [7,22]\n",
    " password.append(random.choice(alpha))\n",
    "random.shuffle(password) #shuffles the list\n",
    "print(''.join(password)) #join the list as string"
   ]
  },
  {
   "cell_type": "code",
   "execution_count": null,
   "metadata": {},
   "outputs": [],
   "source": []
  }
 ],
 "metadata": {
  "kernelspec": {
   "display_name": "Python 3",
   "language": "python",
   "name": "python3"
  },
  "language_info": {
   "codemirror_mode": {
    "name": "ipython",
    "version": 3
   },
   "file_extension": ".py",
   "mimetype": "text/x-python",
   "name": "python",
   "nbconvert_exporter": "python",
   "pygments_lexer": "ipython3",
   "version": "3.7.3"
  }
 },
 "nbformat": 4,
 "nbformat_minor": 2
}
